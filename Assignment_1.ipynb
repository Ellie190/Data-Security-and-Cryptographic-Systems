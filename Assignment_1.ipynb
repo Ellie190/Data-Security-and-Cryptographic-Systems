{
 "cells": [
  {
   "cell_type": "markdown",
   "metadata": {
    "toc": true
   },
   "source": [
    "<h1>Table of Contents<span class=\"tocSkip\"></span></h1>\n",
    "<div class=\"toc\"><ul class=\"toc-item\"><li><span><a href=\"#Caesar-Cipher\" data-toc-modified-id=\"Caesar-Cipher-1\"><span class=\"toc-item-num\">1&nbsp;&nbsp;</span>Caesar Cipher</a></span></li><li><span><a href=\"#Vigenere\" data-toc-modified-id=\"Vigenere-2\"><span class=\"toc-item-num\">2&nbsp;&nbsp;</span>Vigenere</a></span></li><li><span><a href=\"#Menu-Driven-Program\" data-toc-modified-id=\"Menu-Driven-Program-3\"><span class=\"toc-item-num\">3&nbsp;&nbsp;</span>Menu Driven Program</a></span></li><li><span><a href=\"#Brute-force-Experiment\" data-toc-modified-id=\"Brute-force-Experiment-4\"><span class=\"toc-item-num\">4&nbsp;&nbsp;</span>Brute force Experiment</a></span></li></ul></div>"
   ]
  },
  {
   "cell_type": "markdown",
   "metadata": {},
   "source": [
    "## Caesar Cipher "
   ]
  },
  {
   "cell_type": "code",
   "execution_count": 23,
   "metadata": {
    "ExecuteTime": {
     "end_time": "2021-08-23T19:11:02.308339Z",
     "start_time": "2021-08-23T19:11:02.303384Z"
    }
   },
   "outputs": [],
   "source": [
    "def Caesar_encrypt(message, key):\n",
    "    message = message.upper()\n",
    "    alphabet = \"ABCDEFGHIJKLMNOPQRSTUVWXYZ\"\n",
    "    output = \"\"\n",
    "\n",
    "    for letter in message:\n",
    "        if letter in alphabet: \n",
    "            \n",
    "            letter_index = (alphabet.find(letter) + key) % len(alphabet)\n",
    "\n",
    "            output = output + alphabet[letter_index]\n",
    "        else:\n",
    "            output = output + letter\n",
    "\n",
    "    return output"
   ]
  },
  {
   "cell_type": "code",
   "execution_count": 89,
   "metadata": {
    "ExecuteTime": {
     "end_time": "2021-08-23T21:26:24.866997Z",
     "start_time": "2021-08-23T21:26:24.862046Z"
    }
   },
   "outputs": [],
   "source": [
    "def Caesar_decrypt(message, key):\n",
    "    message = message.upper()\n",
    "    alphabet = \"ABCDEFGHIJKLMNOPQRSTUVWXYZ\"\n",
    "    output = \"\"\n",
    "\n",
    "    for letter in message:\n",
    "        if letter in alphabet:\n",
    "\n",
    "            letter_index = (alphabet.find(letter) - key) % len(alphabet)\n",
    "\n",
    "            output = output + alphabet[letter_index]\n",
    "        else:\n",
    "            output = output + letter\n",
    "\n",
    "    return output"
   ]
  },
  {
   "cell_type": "code",
   "execution_count": 24,
   "metadata": {
    "ExecuteTime": {
     "end_time": "2021-08-23T19:11:04.353444Z",
     "start_time": "2021-08-23T19:11:04.349487Z"
    }
   },
   "outputs": [
    {
     "data": {
      "text/plain": [
       "'MFUUD AFQJSYNSJ'"
      ]
     },
     "execution_count": 24,
     "metadata": {},
     "output_type": "execute_result"
    }
   ],
   "source": [
    "Caesar_encrypt(\"Happy Valentine\",5)"
   ]
  },
  {
   "cell_type": "code",
   "execution_count": 29,
   "metadata": {
    "ExecuteTime": {
     "end_time": "2021-08-23T19:14:04.263356Z",
     "start_time": "2021-08-23T19:14:04.247696Z"
    }
   },
   "outputs": [
    {
     "data": {
      "text/plain": [
       "'HAPPY VALENTINE'"
      ]
     },
     "execution_count": 29,
     "metadata": {},
     "output_type": "execute_result"
    }
   ],
   "source": [
    "Caesar_decrypt(\"MFUUD AFQJSYNSJ\",5)"
   ]
  },
  {
   "cell_type": "markdown",
   "metadata": {},
   "source": [
    "## Vigenere "
   ]
  },
  {
   "cell_type": "code",
   "execution_count": 34,
   "metadata": {
    "ExecuteTime": {
     "end_time": "2021-08-23T19:40:06.690276Z",
     "start_time": "2021-08-23T19:40:06.685290Z"
    }
   },
   "outputs": [],
   "source": [
    "def generateKey(message, key):\n",
    "    key = list(key)\n",
    "    if len(message) == len(key):\n",
    "        return(key)\n",
    "    else:\n",
    "        for i in range(len(message) - len(key)):\n",
    "            key.append(key[i % len(key)])\n",
    "    return(\"\".join(key))"
   ]
  },
  {
   "cell_type": "code",
   "execution_count": 49,
   "metadata": {
    "ExecuteTime": {
     "end_time": "2021-08-23T19:58:52.200563Z",
     "start_time": "2021-08-23T19:58:52.192559Z"
    }
   },
   "outputs": [
    {
     "data": {
      "text/plain": [
       "'codescodescodes'"
      ]
     },
     "execution_count": 49,
     "metadata": {},
     "output_type": "execute_result"
    }
   ],
   "source": [
    "generateKey(\"Timeisagainstus\", \"codes\")"
   ]
  },
  {
   "cell_type": "code",
   "execution_count": 62,
   "metadata": {
    "ExecuteTime": {
     "end_time": "2021-08-23T20:12:26.736903Z",
     "start_time": "2021-08-23T20:12:26.731916Z"
    }
   },
   "outputs": [],
   "source": [
    "def Vigenere_encrypt(message, key):\n",
    "    cipher_text = []\n",
    "    for i in range(len(message)):\n",
    "        x = (ord(message[i]) + ord(key[i])) % 26\n",
    "        x += ord('A')\n",
    "        cipher_text.append(chr(x))\n",
    "    return(\"\".join(cipher_text))"
   ]
  },
  {
   "cell_type": "code",
   "execution_count": 63,
   "metadata": {
    "ExecuteTime": {
     "end_time": "2021-08-23T20:12:30.327355Z",
     "start_time": "2021-08-23T20:12:30.322369Z"
    }
   },
   "outputs": [],
   "source": [
    "def Vigenere_decrypt(cipher_text, key):\n",
    "    plain_text = []\n",
    "    for i in range(len(cipher_text)):\n",
    "        x = (ord(cipher_text[i]) -\n",
    "             ord(key[i]) + 26) % 26\n",
    "        x += ord('A')\n",
    "        plain_text.append(chr(x))\n",
    "    return(\"\".join(plain_text))"
   ]
  },
  {
   "cell_type": "code",
   "execution_count": 83,
   "metadata": {
    "ExecuteTime": {
     "end_time": "2021-08-23T21:17:42.453417Z",
     "start_time": "2021-08-23T21:17:42.447459Z"
    }
   },
   "outputs": [
    {
     "name": "stdout",
     "output_type": "stream",
     "text": [
      "Ciphertext : VWPILKGWEYCWQWLVIV\n",
      "Decrypted Text : TIMETISTAGAINSTTUS\n"
     ]
    }
   ],
   "source": [
    "string = \"TIME IS AGAINST US\".upper()\n",
    "keyword = \"CODES\".upper()\n",
    "key = generateKey(string, keyword)\n",
    "cipher_text = Vigenere_encrypt(string,key)\n",
    "print(\"Ciphertext :\", cipher_text)\n",
    "print(\"Decrypted Text :\",\n",
    "       Vigenere_decrypt(cipher_text, key))"
   ]
  },
  {
   "cell_type": "markdown",
   "metadata": {},
   "source": [
    "## Menu Driven Program "
   ]
  },
  {
   "cell_type": "code",
   "execution_count": 79,
   "metadata": {
    "ExecuteTime": {
     "end_time": "2021-08-23T21:14:17.054562Z",
     "start_time": "2021-08-23T21:14:17.042585Z"
    }
   },
   "outputs": [],
   "source": [
    "# Defining functions \n",
    "\n",
    "# CAESAR \n",
    "\n",
    "def Caesar_encrypt(message, key):\n",
    "    message = message.upper()\n",
    "    alphabet = \"ABCDEFGHIJKLMNOPQRSTUVWXYZ\"\n",
    "    output = \"\"\n",
    "\n",
    "    for letter in message:\n",
    "        if letter in alphabet: \n",
    "            \n",
    "            letter_index = (alphabet.find(letter) + key) % len(alphabet)\n",
    "\n",
    "            output = output + alphabet[letter_index]\n",
    "        else:\n",
    "            output = output + letter\n",
    "\n",
    "    return output\n",
    "\n",
    "def Caesar_decrypt(message, key):\n",
    "    message = message.upper()\n",
    "    alphabet = \"ABCDEFGHIJKLMNOPQRSTUVWXYZ\"\n",
    "    output = \"\"\n",
    "\n",
    "    for letter in message:\n",
    "        if letter in alphabet:\n",
    "\n",
    "            letter_index = (alphabet.find(letter) - key) % len(alphabet)\n",
    "\n",
    "            output = output + alphabet[letter_index]\n",
    "        else:\n",
    "            output = output + letter\n",
    "\n",
    "    return output\n",
    "\n",
    "# VIGENERE\n",
    "def generateKey(message, key):\n",
    "    key = list(key)\n",
    "    if len(message) == len(key):\n",
    "        return(key)\n",
    "    else:\n",
    "        for i in range(len(message) - len(key)):\n",
    "            key.append(key[i % len(key)])\n",
    "    return(\"\".join(key))\n",
    "\n",
    "def Vigenere_encrypt(message, key):\n",
    "    cipher_text = []\n",
    "    for i in range(len(message)):\n",
    "        x = (ord(message[i]) + ord(key[i])) % 26\n",
    "        x += ord('A')\n",
    "        cipher_text.append(chr(x))\n",
    "    return(\"\".join(cipher_text))\n",
    "\n",
    "def Vigenere_decrypt(cipher_text, key):\n",
    "    plain_text = []\n",
    "    for i in range(len(cipher_text)):\n",
    "        x = (ord(cipher_text[i]) -\n",
    "             ord(key[i]) + 26) % 26\n",
    "        x += ord('A')\n",
    "        plain_text.append(chr(x))\n",
    "    return(\"\".join(plain_text))"
   ]
  },
  {
   "cell_type": "code",
   "execution_count": 88,
   "metadata": {
    "ExecuteTime": {
     "end_time": "2021-08-23T21:24:18.335469Z",
     "start_time": "2021-08-23T21:24:16.030172Z"
    }
   },
   "outputs": [
    {
     "name": "stdout",
     "output_type": "stream",
     "text": [
      "WELCOME TO THE CAESAR AND VIGENERE ENCRYPTION AND DECRYPTION PROGRAM\n",
      "\n",
      "MAIN MENU\n",
      "Choices in this program are numbers ranging from 1-3\n",
      "1. Use Caesar Cipher\n",
      "2: Use Vigenere Cipher\n",
      "3. Exit\n",
      "Enter your Choice: 3\n"
     ]
    }
   ],
   "source": [
    "print(\"WELCOME TO THE CAESAR AND VIGENERE ENCRYPTION AND DECRYPTION PROGRAM\")\n",
    "while True:\n",
    "    print(\"\\nMAIN MENU\")\n",
    "    print(\"Choices in this program are numbers ranging from 1-3\")\n",
    "    print(\"1. Use Caesar Cipher\")\n",
    "    print(\"2: Use Vigenere Cipher\")\n",
    "    print(\"3. Exit\")\n",
    "    choice1 = int(input(\"Enter your Choice: \"))\n",
    "    \n",
    "    if choice1 == 1:\n",
    "        print(\"\\nWhat do you intend to do with Caesar Cipher?\")\n",
    "        print(\"1. X - Encrypt\")\n",
    "        print(\"2. Y - Decrypt\")\n",
    "        print(\"3. Exit\")\n",
    "        choice2 = int(input(\"Enter your choice: \"))\n",
    "        \n",
    "        if choice2 == 1:\n",
    "            message = input(\"Enter message for encryption: \")\n",
    "            key = int(input(\"Enter Encryption Key (any number between 0-25): \"))\n",
    "            print(\"Ciphertext :\", message)\n",
    "            print(\"Decrypted Text :\", Caesar_encrypt(message, key))\n",
    "        \n",
    "        elif choice2 == 2:\n",
    "            message = input(\"Enter Message for Decryption: \")\n",
    "            key = int(input(\"Enter Decryption Key (any number between 0-25): \"))\n",
    "            print(\"Decrypted Text :\", message)\n",
    "            print(\"Ciphertext :\", Caesar_decrypt(message, key))\n",
    "            \n",
    "        elif choice2 == 3:\n",
    "            break\n",
    "            \n",
    "        else:\n",
    "            print(\"Oops! Incorrect Choice.\")\n",
    "            \n",
    "    elif choice1 == 2:\n",
    "        print(\"\\nWhat do you intend to do with Vigenere Cipher?\")\n",
    "        print(\"1. X - Encrypt\")\n",
    "        print(\"2. Y - Decrypt\")\n",
    "        print(\"3. Exit\")\n",
    "        choice3 = int(input(\"Enter your choice: \"))\n",
    "        \n",
    "        if choice3 == 1:\n",
    "            message = input(\"Enter Message for Encryption: \").upper()\n",
    "            keyword = input(\"Enter Encryption Keyword: \").upper()\n",
    "            key = generateKey(message, keyword)\n",
    "            print(\"Ciphertext :\", message)\n",
    "            print(\"Decrypted Text :\", Vigenere_encrypt(message, key))\n",
    "            \n",
    "        elif choice3 == 2:\n",
    "            message = input(\"Enter Message for Decryption: \").upper()\n",
    "            keyword = input(\"Enter Decryption Keyword: \").upper()\n",
    "            key = generateKey(message, keyword)\n",
    "            print(\"Decrypted Text :\", message)\n",
    "            print(\"Ciphertext:\", Vigenere_decrypt(message, key))\n",
    "            \n",
    "        elif choice3 == 3:\n",
    "            break\n",
    "            \n",
    "        else:\n",
    "            print(\"Oops! Incorrect Choice.\")\n",
    "            \n",
    "    elif choice1 == 3:\n",
    "        break\n",
    "    \n",
    "    else: \n",
    "        print(\"Oops! Incorrect Choice\")"
   ]
  },
  {
   "cell_type": "markdown",
   "metadata": {},
   "source": [
    "## Brute force Experiment"
   ]
  },
  {
   "cell_type": "code",
   "execution_count": 31,
   "metadata": {
    "ExecuteTime": {
     "end_time": "2021-08-23T19:29:05.895161Z",
     "start_time": "2021-08-23T19:29:05.891208Z"
    }
   },
   "outputs": [],
   "source": [
    "message = 'MFUUD AFQJSYNSJ' \n",
    "alphabet = 'ABCDEFGHIJKLMNOPQRSTUVWXYZ'"
   ]
  },
  {
   "cell_type": "code",
   "execution_count": 33,
   "metadata": {
    "ExecuteTime": {
     "end_time": "2021-08-23T19:29:20.372065Z",
     "start_time": "2021-08-23T19:29:20.362094Z"
    }
   },
   "outputs": [
    {
     "name": "stdout",
     "output_type": "stream",
     "text": [
      "Hacking key #0: MFUUD AFQJSYNSJ\n",
      "Hacking key #1: LETTC ZEPIRXMRI\n",
      "Hacking key #2: KDSSB YDOHQWLQH\n",
      "Hacking key #3: JCRRA XCNGPVKPG\n",
      "Hacking key #4: IBQQZ WBMFOUJOF\n",
      "Hacking key #5: HAPPY VALENTINE\n",
      "Hacking key #6: GZOOX UZKDMSHMD\n",
      "Hacking key #7: FYNNW TYJCLRGLC\n",
      "Hacking key #8: EXMMV SXIBKQFKB\n",
      "Hacking key #9: DWLLU RWHAJPEJA\n",
      "Hacking key #10: CVKKT QVGZIODIZ\n",
      "Hacking key #11: BUJJS PUFYHNCHY\n",
      "Hacking key #12: ATIIR OTEXGMBGX\n",
      "Hacking key #13: ZSHHQ NSDWFLAFW\n",
      "Hacking key #14: YRGGP MRCVEKZEV\n",
      "Hacking key #15: XQFFO LQBUDJYDU\n",
      "Hacking key #16: WPEEN KPATCIXCT\n",
      "Hacking key #17: VODDM JOZSBHWBS\n",
      "Hacking key #18: UNCCL INYRAGVAR\n",
      "Hacking key #19: TMBBK HMXQZFUZQ\n",
      "Hacking key #20: SLAAJ GLWPYETYP\n",
      "Hacking key #21: RKZZI FKVOXDSXO\n",
      "Hacking key #22: QJYYH EJUNWCRWN\n",
      "Hacking key #23: PIXXG DITMVBQVM\n",
      "Hacking key #24: OHWWF CHSLUAPUL\n",
      "Hacking key #25: NGVVE BGRKTZOTK\n"
     ]
    }
   ],
   "source": [
    "for key in range(len(alphabet)):\n",
    "    translated_message = ''\n",
    "    for symbol in message:\n",
    "        if symbol in alphabet:\n",
    "            index = alphabet.find(symbol)\n",
    "            index = index - key\n",
    "            if index < 0:\n",
    "                index = index + len(alphabet)\n",
    "            translated_message = translated_message + alphabet[index]\n",
    "        else:\n",
    "            translated_message = translated_message + symbol\n",
    "    print('Hacking key #%s: %s' % (key, translated_message))"
   ]
  }
 ],
 "metadata": {
  "hide_input": false,
  "kernelspec": {
   "display_name": "Python 3",
   "language": "python",
   "name": "python3"
  },
  "language_info": {
   "codemirror_mode": {
    "name": "ipython",
    "version": 3
   },
   "file_extension": ".py",
   "mimetype": "text/x-python",
   "name": "python",
   "nbconvert_exporter": "python",
   "pygments_lexer": "ipython3",
   "version": "3.8.3"
  },
  "latex_envs": {
   "LaTeX_envs_menu_present": true,
   "autoclose": false,
   "autocomplete": true,
   "bibliofile": "biblio.bib",
   "cite_by": "apalike",
   "current_citInitial": 1,
   "eqLabelWithNumbers": true,
   "eqNumInitial": 1,
   "hotkeys": {
    "equation": "Ctrl-E",
    "itemize": "Ctrl-I"
   },
   "labels_anchors": false,
   "latex_user_defs": false,
   "report_style_numbering": false,
   "user_envs_cfg": false
  },
  "toc": {
   "base_numbering": 1,
   "nav_menu": {},
   "number_sections": true,
   "sideBar": true,
   "skip_h1_title": false,
   "title_cell": "Table of Contents",
   "title_sidebar": "Contents",
   "toc_cell": true,
   "toc_position": {},
   "toc_section_display": true,
   "toc_window_display": false
  }
 },
 "nbformat": 4,
 "nbformat_minor": 4
}
