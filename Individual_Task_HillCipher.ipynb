{
 "cells": [
  {
   "cell_type": "markdown",
   "metadata": {
    "toc": true
   },
   "source": [
    "<h1>Table of Contents<span class=\"tocSkip\"></span></h1>\n",
    "<div class=\"toc\"><ul class=\"toc-item\"><li><span><a href=\"#Task\" data-toc-modified-id=\"Task-1\"><span class=\"toc-item-num\">1&nbsp;&nbsp;</span>Task</a></span></li><li><span><a href=\"#Method\" data-toc-modified-id=\"Method-2\"><span class=\"toc-item-num\">2&nbsp;&nbsp;</span>Method</a></span></li><li><span><a href=\"#Approach:-Reasoning-process\" data-toc-modified-id=\"Approach:-Reasoning-process-3\"><span class=\"toc-item-num\">3&nbsp;&nbsp;</span>Approach: Reasoning process</a></span><ul class=\"toc-item\"><li><span><a href=\"#Step-2:\" data-toc-modified-id=\"Step-2:-3.1\"><span class=\"toc-item-num\">3.1&nbsp;&nbsp;</span>Step 2:</a></span></li><li><span><a href=\"#step-3:\" data-toc-modified-id=\"step-3:-3.2\"><span class=\"toc-item-num\">3.2&nbsp;&nbsp;</span>step 3:</a></span></li><li><span><a href=\"#Step-4:\" data-toc-modified-id=\"Step-4:-3.3\"><span class=\"toc-item-num\">3.3&nbsp;&nbsp;</span>Step 4:</a></span></li><li><span><a href=\"#Step-5:\" data-toc-modified-id=\"Step-5:-3.4\"><span class=\"toc-item-num\">3.4&nbsp;&nbsp;</span>Step 5:</a></span></li><li><span><a href=\"#Last-Remarks\" data-toc-modified-id=\"Last-Remarks-3.5\"><span class=\"toc-item-num\">3.5&nbsp;&nbsp;</span>Last Remarks</a></span></li></ul></li></ul></div>"
   ]
  },
  {
   "cell_type": "markdown",
   "metadata": {},
   "source": [
    "## Task \n",
    "\n",
    "You are told that a Hill model was used with a 5 x 5 matrix key. You also know that PILLA is a cipher \n",
    "text that arose from the encryption of a common female name in English. Do everything you can \n",
    "through a code to brute force attack the Hill model and decode the name. Show every piece of your \n",
    "reasoning."
   ]
  },
  {
   "cell_type": "markdown",
   "metadata": {},
   "source": [
    "## Method\n",
    "1. Google: Common 5 character English female names \n",
    "2. Create dataframe to store the common 5 character female names \n",
    "3. Generate 5x5 key matrices that have inverses (determinant is non-zero)\n",
    "4. Using C = E(K, P) = P * K mod 26, where C is the generated ciphertext, K is the 5x5 key matrix and P is plaintext (common 5 character female names) encrypt the female names in the dataframe. \n",
    "5. Using the C generated from the encryption, Loop through the C characters and observe characters that match the characters of PILLA (e.g. if the first generated character from encryption matches P and so on). "
   ]
  },
  {
   "cell_type": "markdown",
   "metadata": {
    "ExecuteTime": {
     "end_time": "2021-09-05T20:15:20.125504Z",
     "start_time": "2021-09-05T20:15:20.121515Z"
    }
   },
   "source": [
    "## Approach: Reasoning process"
   ]
  },
  {
   "cell_type": "markdown",
   "metadata": {},
   "source": [
    "### Step 2:\n",
    "\n",
    "Create a dataframe with female names that have 5 characters. Female names with less than 6 characters can also be generated since in the encryption process of `PILLA` could have filler characters. However to demonstrate the reasoning process 5 characters will be used to generate female names. Generating female names with less than 6 characters will consider female names that have 5, 4, 3, 2, 1 character(s).  "
   ]
  },
  {
   "cell_type": "code",
   "execution_count": 10,
   "metadata": {
    "ExecuteTime": {
     "end_time": "2021-09-05T20:30:28.883735Z",
     "start_time": "2021-09-05T20:30:00.710100Z"
    }
   },
   "outputs": [],
   "source": [
    "import names \n",
    "import pandas as pd\n",
    "import numpy as np"
   ]
  },
  {
   "cell_type": "code",
   "execution_count": 21,
   "metadata": {
    "ExecuteTime": {
     "end_time": "2021-09-05T20:35:39.661872Z",
     "start_time": "2021-09-05T20:35:39.622742Z"
    }
   },
   "outputs": [],
   "source": [
    "name_list = []\n",
    "for i in range(50): # for testing purposes 50 names will be generated\n",
    "    rand_name = names.get_first_name(gender='female')\n",
    "    if len(rand_name) == 5: # can also generate names with less than 6 characters to cater for other possibilities \n",
    "        name_list.append(rand_name)"
   ]
  },
  {
   "cell_type": "code",
   "execution_count": 23,
   "metadata": {
    "ExecuteTime": {
     "end_time": "2021-09-05T20:37:16.619512Z",
     "start_time": "2021-09-05T20:37:16.497837Z"
    }
   },
   "outputs": [],
   "source": [
    "# Create dataframe \n",
    "df = pd.DataFrame(name_list, columns=[\"Female_Names\"])"
   ]
  },
  {
   "cell_type": "code",
   "execution_count": 26,
   "metadata": {
    "ExecuteTime": {
     "end_time": "2021-09-05T20:38:21.308650Z",
     "start_time": "2021-09-05T20:38:21.299677Z"
    }
   },
   "outputs": [
    {
     "data": {
      "text/html": [
       "<div>\n",
       "<style scoped>\n",
       "    .dataframe tbody tr th:only-of-type {\n",
       "        vertical-align: middle;\n",
       "    }\n",
       "\n",
       "    .dataframe tbody tr th {\n",
       "        vertical-align: top;\n",
       "    }\n",
       "\n",
       "    .dataframe thead th {\n",
       "        text-align: right;\n",
       "    }\n",
       "</style>\n",
       "<table border=\"1\" class=\"dataframe\">\n",
       "  <thead>\n",
       "    <tr style=\"text-align: right;\">\n",
       "      <th></th>\n",
       "      <th>Female_Names</th>\n",
       "    </tr>\n",
       "  </thead>\n",
       "  <tbody>\n",
       "    <tr>\n",
       "      <th>0</th>\n",
       "      <td>Erika</td>\n",
       "    </tr>\n",
       "    <tr>\n",
       "      <th>1</th>\n",
       "      <td>Carol</td>\n",
       "    </tr>\n",
       "    <tr>\n",
       "      <th>2</th>\n",
       "      <td>Helen</td>\n",
       "    </tr>\n",
       "    <tr>\n",
       "      <th>3</th>\n",
       "      <td>Linda</td>\n",
       "    </tr>\n",
       "    <tr>\n",
       "      <th>4</th>\n",
       "      <td>Magda</td>\n",
       "    </tr>\n",
       "  </tbody>\n",
       "</table>\n",
       "</div>"
      ],
      "text/plain": [
       "  Female_Names\n",
       "0        Erika\n",
       "1        Carol\n",
       "2        Helen\n",
       "3        Linda\n",
       "4        Magda"
      ]
     },
     "execution_count": 26,
     "metadata": {},
     "output_type": "execute_result"
    }
   ],
   "source": [
    "df.head()"
   ]
  },
  {
   "cell_type": "markdown",
   "metadata": {},
   "source": [
    "### step 3:\n",
    "\n",
    "Create a 5x5 matrix that have a inverse (determinant is non-zero)"
   ]
  },
  {
   "cell_type": "code",
   "execution_count": 33,
   "metadata": {
    "ExecuteTime": {
     "end_time": "2021-09-05T20:51:00.204822Z",
     "start_time": "2021-09-05T20:51:00.199836Z"
    }
   },
   "outputs": [],
   "source": [
    "for i in range(50): \n",
    "    key = np.random.randint(40, size=(5, 5)) # matrices that have values in between 0-40\n",
    "    if np.linalg.det(key) != 0:\n",
    "        break"
   ]
  },
  {
   "cell_type": "code",
   "execution_count": 34,
   "metadata": {
    "ExecuteTime": {
     "end_time": "2021-09-05T20:51:07.208991Z",
     "start_time": "2021-09-05T20:51:07.203008Z"
    }
   },
   "outputs": [
    {
     "data": {
      "text/plain": [
       "array([[33, 31, 26, 14,  7],\n",
       "       [17, 34,  6, 30, 38],\n",
       "       [20, 17, 35, 32, 31],\n",
       "       [ 9,  6, 31, 15, 16],\n",
       "       [23,  0, 39, 13, 34]])"
      ]
     },
     "execution_count": 34,
     "metadata": {},
     "output_type": "execute_result"
    }
   ],
   "source": [
    "key"
   ]
  },
  {
   "cell_type": "markdown",
   "metadata": {},
   "source": [
    "### Step 4:\n",
    "\n",
    "Encrypt the female names using the generated matrix (Hill cipher method)"
   ]
  },
  {
   "cell_type": "code",
   "execution_count": 41,
   "metadata": {
    "ExecuteTime": {
     "end_time": "2021-09-05T20:59:37.518948Z",
     "start_time": "2021-09-05T20:59:37.510969Z"
    }
   },
   "outputs": [],
   "source": [
    "import string\n",
    "\n",
    "def preprocessing(m):\n",
    "    m = m.replace(\" \",\"\").replace(\",\",\"\").replace(\".\",\"\").replace(\"'\",\"\").replace(\":\",\"\").replace(\";\",\"\")\n",
    "    m = m.lower()\n",
    "    return m\n",
    "\n",
    "def lettersOfPlaintext(m):\n",
    "    letters = []\n",
    "    for i in range(0, len(m)):\n",
    "        letters.append(m[i])\n",
    "    return letters\n",
    "\n",
    "def letterToNumber(letter):\n",
    "    return string.ascii_lowercase.index(letter)\n",
    "\n",
    "def numberToLetter(number):\n",
    "    return chr(int(number) + 97)\n",
    "\n",
    "def module(letter_index):\n",
    "    \n",
    "    while(letter_index < 0):\n",
    "        letter_index += 26\n",
    "       \n",
    "    while(letter_index > 25):\n",
    "        letter_index -= 26\n",
    "    \n",
    "    return letter_index"
   ]
  },
  {
   "cell_type": "code",
   "execution_count": 108,
   "metadata": {
    "ExecuteTime": {
     "end_time": "2021-09-05T22:27:41.349294Z",
     "start_time": "2021-09-05T22:27:41.345303Z"
    }
   },
   "outputs": [],
   "source": [
    "# for demonstration the first female name is used. \n",
    "female_name = name_list[0]"
   ]
  },
  {
   "cell_type": "code",
   "execution_count": 109,
   "metadata": {
    "ExecuteTime": {
     "end_time": "2021-09-05T22:27:41.841968Z",
     "start_time": "2021-09-05T22:27:41.836977Z"
    }
   },
   "outputs": [
    {
     "data": {
      "text/plain": [
       "'erika'"
      ]
     },
     "execution_count": 109,
     "metadata": {},
     "output_type": "execute_result"
    }
   ],
   "source": [
    "female_name = preprocessing(female_name)\n",
    "female_name"
   ]
  },
  {
   "cell_type": "code",
   "execution_count": 110,
   "metadata": {
    "ExecuteTime": {
     "end_time": "2021-09-05T22:27:42.348381Z",
     "start_time": "2021-09-05T22:27:42.344391Z"
    }
   },
   "outputs": [],
   "source": [
    "plaintext = lettersOfPlaintext(female_name)"
   ]
  },
  {
   "cell_type": "code",
   "execution_count": 111,
   "metadata": {
    "ExecuteTime": {
     "end_time": "2021-09-05T22:27:42.816193Z",
     "start_time": "2021-09-05T22:27:42.811205Z"
    }
   },
   "outputs": [
    {
     "data": {
      "text/plain": [
       "['e', 'r', 'i', 'k', 'a']"
      ]
     },
     "execution_count": 111,
     "metadata": {},
     "output_type": "execute_result"
    }
   ],
   "source": [
    "plaintext"
   ]
  },
  {
   "cell_type": "code",
   "execution_count": 112,
   "metadata": {
    "ExecuteTime": {
     "end_time": "2021-09-05T22:27:43.353830Z",
     "start_time": "2021-09-05T22:27:43.349839Z"
    }
   },
   "outputs": [],
   "source": [
    "# Obtaining the numeric representation of the female name characters \n",
    "plaintext_idx = []\n",
    "for i in plaintext:\n",
    "    plaintext_idx.append(letterToNumber(i))"
   ]
  },
  {
   "cell_type": "code",
   "execution_count": 113,
   "metadata": {
    "ExecuteTime": {
     "end_time": "2021-09-05T22:27:43.902254Z",
     "start_time": "2021-09-05T22:27:43.897268Z"
    }
   },
   "outputs": [
    {
     "data": {
      "text/plain": [
       "[4, 17, 8, 10, 0]"
      ]
     },
     "execution_count": 113,
     "metadata": {},
     "output_type": "execute_result"
    }
   ],
   "source": [
    "plaintext_idx"
   ]
  },
  {
   "cell_type": "code",
   "execution_count": 114,
   "metadata": {
    "ExecuteTime": {
     "end_time": "2021-09-05T22:27:44.409303Z",
     "start_time": "2021-09-05T22:27:44.405313Z"
    }
   },
   "outputs": [],
   "source": [
    "plaintext_matrix = np.array(plaintext_idx)"
   ]
  },
  {
   "cell_type": "code",
   "execution_count": 115,
   "metadata": {
    "ExecuteTime": {
     "end_time": "2021-09-05T22:27:44.909230Z",
     "start_time": "2021-09-05T22:27:44.903265Z"
    }
   },
   "outputs": [
    {
     "data": {
      "text/plain": [
       "array([ 4, 17,  8, 10,  0])"
      ]
     },
     "execution_count": 115,
     "metadata": {},
     "output_type": "execute_result"
    }
   ],
   "source": [
    "plaintext_matrix"
   ]
  },
  {
   "cell_type": "code",
   "execution_count": 116,
   "metadata": {
    "ExecuteTime": {
     "end_time": "2021-09-05T22:27:45.435848Z",
     "start_time": "2021-09-05T22:27:45.430821Z"
    }
   },
   "outputs": [
    {
     "data": {
      "text/plain": [
       "(5,)"
      ]
     },
     "execution_count": 116,
     "metadata": {},
     "output_type": "execute_result"
    }
   ],
   "source": [
    "plaintext_matrix.shape"
   ]
  },
  {
   "cell_type": "code",
   "execution_count": 117,
   "metadata": {
    "ExecuteTime": {
     "end_time": "2021-09-05T22:27:46.002197Z",
     "start_time": "2021-09-05T22:27:45.998208Z"
    }
   },
   "outputs": [],
   "source": [
    "# encrypting the female name (Hill Cipher method)\n",
    "encryption = np.matmul(plaintext_matrix, key) % 26"
   ]
  },
  {
   "cell_type": "code",
   "execution_count": 118,
   "metadata": {
    "ExecuteTime": {
     "end_time": "2021-09-05T22:27:46.958021Z",
     "start_time": "2021-09-05T22:27:46.954031Z"
    }
   },
   "outputs": [],
   "source": [
    "encryption.resize(1,5)"
   ]
  },
  {
   "cell_type": "code",
   "execution_count": 119,
   "metadata": {
    "ExecuteTime": {
     "end_time": "2021-09-05T22:27:47.596317Z",
     "start_time": "2021-09-05T22:27:47.592367Z"
    }
   },
   "outputs": [],
   "source": [
    "ciphertext = []\n",
    "for i in encryption.tolist()[0]:\n",
    "    ciphertext.append(numberToLetter(i))"
   ]
  },
  {
   "cell_type": "code",
   "execution_count": 120,
   "metadata": {
    "ExecuteTime": {
     "end_time": "2021-09-05T22:27:48.055308Z",
     "start_time": "2021-09-05T22:27:48.050323Z"
    }
   },
   "outputs": [
    {
     "data": {
      "text/plain": [
       "['v', 'o', 'q', 'k', 'q']"
      ]
     },
     "execution_count": 120,
     "metadata": {},
     "output_type": "execute_result"
    }
   ],
   "source": [
    "# obtaining the ciphertext\n",
    "ciphertext"
   ]
  },
  {
   "cell_type": "code",
   "execution_count": 121,
   "metadata": {
    "ExecuteTime": {
     "end_time": "2021-09-05T22:27:48.978996Z",
     "start_time": "2021-09-05T22:27:48.975045Z"
    }
   },
   "outputs": [],
   "source": [
    "ciphertext = ''.join(ciphertext)"
   ]
  },
  {
   "cell_type": "code",
   "execution_count": 103,
   "metadata": {
    "ExecuteTime": {
     "end_time": "2021-09-05T22:27:14.714393Z",
     "start_time": "2021-09-05T22:27:14.708407Z"
    }
   },
   "outputs": [
    {
     "data": {
      "text/plain": [
       "'voqkq'"
      ]
     },
     "execution_count": 103,
     "metadata": {},
     "output_type": "execute_result"
    }
   ],
   "source": [
    "ciphertext"
   ]
  },
  {
   "cell_type": "markdown",
   "metadata": {},
   "source": [
    "### Step 5:\n",
    "\n",
    "Using the ciphertext generated from the encryption, Loop through the Ciphertext characters and observe characters that match the characters of PILLA (e.g. if the first generated character from encryption matches P and so on)."
   ]
  },
  {
   "cell_type": "code",
   "execution_count": 122,
   "metadata": {
    "ExecuteTime": {
     "end_time": "2021-09-05T22:27:52.452577Z",
     "start_time": "2021-09-05T22:27:52.449584Z"
    }
   },
   "outputs": [],
   "source": [
    "ciphername = 'PILLA'"
   ]
  },
  {
   "cell_type": "code",
   "execution_count": 124,
   "metadata": {
    "ExecuteTime": {
     "end_time": "2021-09-05T22:28:08.372535Z",
     "start_time": "2021-09-05T22:28:08.367547Z"
    }
   },
   "outputs": [],
   "source": [
    "import re \n",
    "\n",
    "# Ciphername: This is the ciphertext that we need to decipher\n",
    "# ciphertext: This is the ciphertext generated to see if the encrypted female name generated the ciphername (PILLA)\n",
    "# A function that returns that number of characters that matching between the cipher to decode and cipher generated \n",
    "def CipherMatch(ciphername, ciphertext):\n",
    "    c = 0\n",
    "    for i in str(ciphername.lower()):\n",
    "        if re.search(i,ciphertext.lower()):\n",
    "            c=c+1\n",
    "    return c"
   ]
  },
  {
   "cell_type": "code",
   "execution_count": 125,
   "metadata": {
    "ExecuteTime": {
     "end_time": "2021-09-05T22:28:10.927682Z",
     "start_time": "2021-09-05T22:28:10.923691Z"
    }
   },
   "outputs": [],
   "source": [
    "c_match = CipherMatch(ciphername, ciphertext)"
   ]
  },
  {
   "cell_type": "code",
   "execution_count": 126,
   "metadata": {
    "ExecuteTime": {
     "end_time": "2021-09-05T22:28:13.362927Z",
     "start_time": "2021-09-05T22:28:13.357904Z"
    }
   },
   "outputs": [
    {
     "data": {
      "text/plain": [
       "0"
      ]
     },
     "execution_count": 126,
     "metadata": {},
     "output_type": "execute_result"
    }
   ],
   "source": [
    "c_match"
   ]
  },
  {
   "cell_type": "markdown",
   "metadata": {},
   "source": [
    "### Last Remarks\n",
    "\n",
    "If the characters from `PILLA` match characters from the encrypted name, the female name that generated the encryption can be the output. This process can be done such that, there is loop to consider the different female names for encryption and matching the ciphertext from the female name encryption with `PILLA`\n",
    "\n",
    "**Summary** <br>\n",
    "- Create a dataframe with 5 character female names \n",
    "- Create 5x5 matrices that have inverses (determinant is non-zero)\n",
    "- Encrypt the names in the dataframe \n",
    "- Check if those encrypted names have characters that match `PILLA`"
   ]
  }
 ],
 "metadata": {
  "hide_input": false,
  "kernelspec": {
   "display_name": "Python 3",
   "language": "python",
   "name": "python3"
  },
  "language_info": {
   "codemirror_mode": {
    "name": "ipython",
    "version": 3
   },
   "file_extension": ".py",
   "mimetype": "text/x-python",
   "name": "python",
   "nbconvert_exporter": "python",
   "pygments_lexer": "ipython3",
   "version": "3.8.3"
  },
  "latex_envs": {
   "LaTeX_envs_menu_present": true,
   "autoclose": false,
   "autocomplete": true,
   "bibliofile": "biblio.bib",
   "cite_by": "apalike",
   "current_citInitial": 1,
   "eqLabelWithNumbers": true,
   "eqNumInitial": 1,
   "hotkeys": {
    "equation": "Ctrl-E",
    "itemize": "Ctrl-I"
   },
   "labels_anchors": false,
   "latex_user_defs": false,
   "report_style_numbering": false,
   "user_envs_cfg": false
  },
  "toc": {
   "base_numbering": 1,
   "nav_menu": {},
   "number_sections": true,
   "sideBar": true,
   "skip_h1_title": false,
   "title_cell": "Table of Contents",
   "title_sidebar": "Contents",
   "toc_cell": true,
   "toc_position": {},
   "toc_section_display": true,
   "toc_window_display": false
  }
 },
 "nbformat": 4,
 "nbformat_minor": 4
}
